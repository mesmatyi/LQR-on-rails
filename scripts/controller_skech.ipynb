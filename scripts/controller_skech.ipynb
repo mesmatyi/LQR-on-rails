{
 "cells": [
  {
   "cell_type": "code",
   "execution_count": 1,
   "metadata": {},
   "outputs": [
    {
     "name": "stderr",
     "output_type": "stream",
     "text": [
      "/home/matyko/.local/lib/python3.10/site-packages/matplotlib/projections/__init__.py:63: UserWarning: Unable to import Axes3D. This may be due to multiple versions of Matplotlib being installed (e.g. as a system package and as a pip package). As a result, the 3D projection is not available.\n",
      "  warnings.warn(\"Unable to import Axes3D. This may be due to multiple versions of \"\n"
     ]
    }
   ],
   "source": [
    "import scipy.linalg as la\n",
    "import matplotlib.pyplot as plt\n",
    "import math\n",
    "import numpy as np\n",
    "import sys\n",
    "import pathlib"
   ]
  },
  {
   "cell_type": "code",
   "execution_count": 63,
   "metadata": {},
   "outputs": [],
   "source": [
    "import numpy as np\n",
    "import scipy.linalg\n",
    "\n",
    "class AdaptiveLQR:\n",
    "    def __init__(self, A, B, Q_base, R_base):\n",
    "        \"\"\"\n",
    "        Initializes the Adaptive LQR Controller.\n",
    "        :param A: System dynamics matrix.\n",
    "        :param B: Control input matrix.\n",
    "        :param Q_base: Base state cost matrix.\n",
    "        :param R_base: Base control cost matrix.\n",
    "        \"\"\"\n",
    "        self.A = A\n",
    "        self.B = B\n",
    "        self.Q_base = Q_base\n",
    "        self.R_base = R_base\n",
    "\n",
    "    def compute_lqr_gain(self, Q, R):\n",
    "        \"\"\" Solves the Discrete Algebraic Riccati Equation for LQR gain K. \"\"\"\n",
    "        P = scipy.linalg.solve_discrete_are(self.A, self.B, Q, R)\n",
    "        K = np.linalg.inv(self.B.T @ P @ self.B + R) @ (self.B.T @ P @ self.A)\n",
    "        return K\n",
    "\n",
    "    def adaptive_control(self, steering_error, a_y_target, velocity):\n",
    "        \"\"\"\n",
    "        Computes the adaptive LQR control input (torque).\n",
    "        :param steering_error: Steering angle error (rad).\n",
    "        :param a_y_target: Target lateral acceleration (m/s²).\n",
    "        :param velocity: Vehicle speed (m/s).\n",
    "        :return: Torque command in range [-1, 1].\n",
    "        \"\"\"\n",
    "        # **State Vector: [steering angle error, target lateral acceleration]**\n",
    "        x = np.array([[steering_error], [a_y_target]])\n",
    "\n",
    "        # **Adaptive Gain Scaling Based on Speed**\n",
    "        # Higher speeds → More conservative control (lower Q, higher R)\n",
    "        q_scale = 1 + np.tanh(np.linalg.norm(x) / (2 + velocity / 10))\n",
    "        r_scale = 1 + 0.5 * (velocity / 30)  # More damping at high speeds\n",
    "\n",
    "        Q = self.Q_base * q_scale\n",
    "        R = self.R_base * r_scale\n",
    "\n",
    "        # Compute adaptive LQR gain\n",
    "        K = self.compute_lqr_gain(Q, R)\n",
    "\n",
    "        # Compute control action: u = -Kx\n",
    "        torque = float(-K @ x)\n",
    "\n",
    "        # **Limit torque to the range [-1, 1]**\n",
    "        torque = np.clip(torque, -1, 1)\n",
    "        return torque\n",
    "\n",
    "# **Example: Adaptive LQR for Steering Torque Control**\n",
    "A = np.array([[1.0, 0.1], [0, 1.0]])  # State transition (simplified)\n",
    "B = np.array([[0.6], [0.2]])          # Control input matrix\n",
    "\n",
    "Q_base = np.array([[5.0, 0], [0, 1.0]])  # Base Q (penalizing steering error more)\n",
    "R_base = np.array([[0.5]])               # Base R (penalizing control effort)\n",
    "\n",
    "lqr = AdaptiveLQR(A, B, Q_base, R_base)"
   ]
  },
  {
   "cell_type": "code",
   "execution_count": 64,
   "metadata": {},
   "outputs": [
    {
     "name": "stderr",
     "output_type": "stream",
     "text": [
      "/tmp/ipykernel_2037/2427221761.py:47: DeprecationWarning: Conversion of an array with ndim > 0 to a scalar is deprecated, and will error in future. Ensure you extract a single element from your array before performing this operation. (Deprecated NumPy 1.25.)\n",
      "  torque = float(-K @ x)\n"
     ]
    },
    {
     "data": {
      "text/plain": [
       "-0.3846340482419734"
      ]
     },
     "execution_count": 64,
     "metadata": {},
     "output_type": "execute_result"
    }
   ],
   "source": [
    "\n",
    "lqr.adaptive_control(0.4, -0.6, 33.0)  # Example usage"
   ]
  }
 ],
 "metadata": {
  "kernelspec": {
   "display_name": "Python 3",
   "language": "python",
   "name": "python3"
  },
  "language_info": {
   "codemirror_mode": {
    "name": "ipython",
    "version": 3
   },
   "file_extension": ".py",
   "mimetype": "text/x-python",
   "name": "python",
   "nbconvert_exporter": "python",
   "pygments_lexer": "ipython3",
   "version": "3.10.12"
  }
 },
 "nbformat": 4,
 "nbformat_minor": 2
}
